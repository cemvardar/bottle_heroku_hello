{
  "nbformat": 4,
  "nbformat_minor": 0,
  "metadata": {
    "colab": {
      "name": "Markdown pricing example.ipynb",
      "provenance": [],
      "authorship_tag": "ABX9TyN/xM3xRwbmyrfeH0Byvki5",
      "include_colab_link": true
    },
    "kernelspec": {
      "name": "python3",
      "display_name": "Python 3"
    },
    "language_info": {
      "name": "python"
    }
  },
  "cells": [
    {
      "cell_type": "markdown",
      "metadata": {
        "id": "view-in-github",
        "colab_type": "text"
      },
      "source": [
        "<a href=\"https://colab.research.google.com/github/cemvardar/bottle_heroku_hello/blob/master/Markdown_pricing_example.ipynb\" target=\"_parent\"><img src=\"https://colab.research.google.com/assets/colab-badge.svg\" alt=\"Open In Colab\"/></a>"
      ]
    },
    {
      "cell_type": "markdown",
      "metadata": {
        "id": "9VHoWjyNUVSK"
      },
      "source": [
        "# Season End Markdown Pricing\n",
        "\n",
        "Season end markdown pricing is a common problem in fast moving consumer goods and fashion industry. As the high season for a product category ends the retialers wnat to sell thru inventory quickly to open space for new season's items on their shelves. \n",
        "\n",
        "We'll go through a toy example in this lesson to understand\n",
        "\n",
        "- basic tradeoffs in a markdown pricing problem\n",
        "- how to code simple simulations to optimize and visualize this tradeoff\n",
        "\n",
        "##Problem \n",
        "\n",
        "Assume that a retailer has an item with 300 units of inventory and have 6 weeks of the season remaining. At the end of the system the remaining items will be discarded at $0 cost. \n",
        "\n",
        "Further assume that the weekly price-quantity relationship can be modeled with the equation \n",
        "##$$Q = e^{c-\\beta * price}$$ \n",
        "\n",
        "where $\\beta=0.025$ and c = 5\n",
        "\n",
        "which comes to \n",
        "\n",
        "##$$Q = e^{5-0.025 * price}$$\n",
        "\n",
        "What should be the price of this product in the following 6 weeks to maximize earnings of this retailer?"
      ]
    },
    {
      "cell_type": "code",
      "metadata": {
        "id": "Zk281IkT-G-A"
      },
      "source": [
        "import pandas as pd\n",
        "import numpy as np\n",
        "import math"
      ],
      "execution_count": 38,
      "outputs": []
    },
    {
      "cell_type": "code",
      "metadata": {
        "id": "F5QUSh-c9BGX"
      },
      "source": [
        "beta = 0.025\n",
        "c = 5\n",
        "\n",
        "def get_quantity(price):\n",
        "    return math.exp(c - beta * price)\n",
        "\n",
        "quantity_list = []\n",
        "for i in range(1, 11):\n",
        "    price = i*10\n",
        "    quantity_list.append({'price':price, 'quantity': get_quantity(price)})\n",
        "\n",
        "df_quantity = pd.DataFrame(quantity_list)"
      ],
      "execution_count": 12,
      "outputs": []
    },
    {
      "cell_type": "code",
      "metadata": {
        "colab": {
          "base_uri": "https://localhost:8080/",
          "height": 312
        },
        "id": "aaebtnQb-LuM",
        "outputId": "87aedee4-97df-4c1b-c3d1-33dd7e72d538"
      },
      "source": [
        "axes = df_quantity.plot(x ='price', y='quantity')\n",
        "axes.set_title('price quantity curve')"
      ],
      "execution_count": 13,
      "outputs": [
        {
          "output_type": "execute_result",
          "data": {
            "text/plain": [
              "Text(0.5, 1.0, 'price quantity curve')"
            ]
          },
          "metadata": {
            "tags": []
          },
          "execution_count": 13
        },
        {
          "output_type": "display_data",
          "data": {
            "image/png": "[encoded data removed]",
            "text/plain": [
              "<Figure size 432x288 with 1 Axes>"
            ]
          },
          "metadata": {
            "tags": [],
            "needs_background": "light"
          }
        }
      ]
    },
    {
      "cell_type": "code",
      "metadata": {
        "id": "AK0V1WC_-fmy"
      },
      "source": [
        "starting_inventory = 300\n",
        "number_of_week_left = 6\n",
        "current_price = 80"
      ],
      "execution_count": 14,
      "outputs": []
    },
    {
      "cell_type": "code",
      "metadata": {
        "id": "p9XR8D2fIr1_"
      },
      "source": [
        "def get_scenario_results(starting_inventory, price):\n",
        "    current_revenue = 0\n",
        "    current_price = price\n",
        "    current_inventory = starting_inventory\n",
        "    scenario_results_details = []\n",
        "    for current_week in range(1, number_of_week_left+1):\n",
        "        current_quantity = get_quantity(current_price)\n",
        "        sales = min(current_inventory, current_quantity)\n",
        "        current_inventory = current_inventory - sales\n",
        "        current_revenue = current_revenue + sales * current_price\n",
        "        scenario_results_details.append({'week':current_week, 'sales' :sales, 'price': current_price, 'revenue' : current_revenue, \n",
        "        'inventory' :current_inventory})\n",
        "    scenario_results_details_df = pd.DataFrame(scenario_results_details)\n",
        "    scenario_result_summary = {'total_revenue': current_revenue, \n",
        "                               'final_inventory':current_inventory,\n",
        "                               'average_price':scenario_results_details_df['price'].mean()}\n",
        "    return scenario_result_summary, scenario_results_details_df\n",
        "\n",
        "summary_result, detail_df = get_scenario_results(300, 43.5)"
      ],
      "execution_count": 35,
      "outputs": []
    },
    {
      "cell_type": "code",
      "metadata": {
        "colab": {
          "base_uri": "https://localhost:8080/",
          "height": 225
        },
        "id": "5p6rMh6ZKtlM",
        "outputId": "82ac7b6b-e8e3-4f53-b5d9-4e7c28a9682f"
      },
      "source": [
        "detail_df"
      ],
      "execution_count": 36,
      "outputs": [
        {
          "output_type": "execute_result",
          "data": {
            "text/html": [
              "<div>\n",
              "<style scoped>\n",
              "    .dataframe tbody tr th:only-of-type {\n",
              "        vertical-align: middle;\n",
              "    }\n",
              "\n",
              "    .dataframe tbody tr th {\n",
              "        vertical-align: top;\n",
              "    }\n",
              "\n",
              "    .dataframe thead th {\n",
              "        text-align: right;\n",
              "    }\n",
              "</style>\n",
              "<table border=\"1\" class=\"dataframe\">\n",
              "  <thead>\n",
              "    <tr style=\"text-align: right;\">\n",
              "      <th></th>\n",
              "      <th>week</th>\n",
              "      <th>sales</th>\n",
              "      <th>price</th>\n",
              "      <th>revenue</th>\n",
              "      <th>inventory</th>\n",
              "    </tr>\n",
              "  </thead>\n",
              "  <tbody>\n",
              "    <tr>\n",
              "      <th>0</th>\n",
              "      <td>1</td>\n",
              "      <td>50.023855</td>\n",
              "      <td>43.5</td>\n",
              "      <td>2176.037711</td>\n",
              "      <td>249.976145</td>\n",
              "    </tr>\n",
              "    <tr>\n",
              "      <th>1</th>\n",
              "      <td>2</td>\n",
              "      <td>50.023855</td>\n",
              "      <td>43.5</td>\n",
              "      <td>4352.075421</td>\n",
              "      <td>199.952289</td>\n",
              "    </tr>\n",
              "    <tr>\n",
              "      <th>2</th>\n",
              "      <td>3</td>\n",
              "      <td>50.023855</td>\n",
              "      <td>43.5</td>\n",
              "      <td>6528.113132</td>\n",
              "      <td>149.928434</td>\n",
              "    </tr>\n",
              "    <tr>\n",
              "      <th>3</th>\n",
              "      <td>4</td>\n",
              "      <td>50.023855</td>\n",
              "      <td>43.5</td>\n",
              "      <td>8704.150843</td>\n",
              "      <td>99.904578</td>\n",
              "    </tr>\n",
              "    <tr>\n",
              "      <th>4</th>\n",
              "      <td>5</td>\n",
              "      <td>50.023855</td>\n",
              "      <td>43.5</td>\n",
              "      <td>10880.188553</td>\n",
              "      <td>49.880723</td>\n",
              "    </tr>\n",
              "    <tr>\n",
              "      <th>5</th>\n",
              "      <td>6</td>\n",
              "      <td>49.880723</td>\n",
              "      <td>43.5</td>\n",
              "      <td>13050.000000</td>\n",
              "      <td>0.000000</td>\n",
              "    </tr>\n",
              "  </tbody>\n",
              "</table>\n",
              "</div>"
            ],
            "text/plain": [
              "   week      sales  price       revenue   inventory\n",
              "0     1  50.023855   43.5   2176.037711  249.976145\n",
              "1     2  50.023855   43.5   4352.075421  199.952289\n",
              "2     3  50.023855   43.5   6528.113132  149.928434\n",
              "3     4  50.023855   43.5   8704.150843   99.904578\n",
              "4     5  50.023855   43.5  10880.188553   49.880723\n",
              "5     6  49.880723   43.5  13050.000000    0.000000"
            ]
          },
          "metadata": {
            "tags": []
          },
          "execution_count": 36
        }
      ]
    },
    {
      "cell_type": "code",
      "metadata": {
        "id": "6b73CcLOOz24"
      },
      "source": [
        "scenario_results = []\n",
        "for scenario_price in np.arange(0,100, 0.1):\n",
        "    summary_result, detail_df = get_scenario_results(300, scenario_price)\n",
        "    scenario_results.append(summary_result)\n",
        "\n",
        "df_scenarios = pd.DataFrame(scenario_results)\n",
        "# df_scenarios"
      ],
      "execution_count": 44,
      "outputs": []
    },
    {
      "cell_type": "code",
      "metadata": {
        "colab": {
          "base_uri": "https://localhost:8080/",
          "height": 560
        },
        "id": "nWCIxr0VO1LY",
        "outputId": "beb60a22-0bb7-49db-a78c-ff5c085500c9"
      },
      "source": [
        "df_scenarios.plot(x ='average_price', y=['total_revenue'])\n",
        "df_scenarios.plot(x ='average_price', y=['final_inventory'])\n"
      ],
      "execution_count": 43,
      "outputs": [
        {
          "output_type": "execute_result",
          "data": {
            "text/plain": [
              "<matplotlib.axes._subplots.AxesSubplot at 0x7f1222415190>"
            ]
          },
          "metadata": {
            "tags": []
          },
          "execution_count": 43
        },
        {
          "output_type": "display_data",
          "data": {
            "image/png": "[encoded data removed]",
            "text/plain": [
              "<Figure size 432x288 with 1 Axes>"
            ]
          },
          "metadata": {
            "tags": [],
            "needs_background": "light"
          }
        },
        {
          "output_type": "display_data",
          "data": {
            "image/png": "[encoded data removed]",
            "text/plain": [
              "<Figure size 432x288 with 1 Axes>"
            ]
          },
          "metadata": {
            "tags": [],
            "needs_background": "light"
          }
        }
      ]
    },
    {
      "cell_type": "code",
      "metadata": {
        "id": "3VX2EEuKP7Yd"
      },
      "source": [
        ""
      ],
      "execution_count": null,
      "outputs": []
    }
  ]
}